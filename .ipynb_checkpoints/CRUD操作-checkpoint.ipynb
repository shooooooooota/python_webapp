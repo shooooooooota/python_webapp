{
 "cells": [
  {
   "cell_type": "code",
   "execution_count": 1,
   "metadata": {},
   "outputs": [],
   "source": [
    "from assets.database import db_session\n",
    "from assets.database import init_db\n",
    "from assets.models import Data\n",
    "\n",
    "import datetime"
   ]
  },
  {
   "cell_type": "code",
   "execution_count": 2,
   "metadata": {},
   "outputs": [
    {
     "name": "stdout",
     "output_type": "stream",
     "text": [
      "2020-05-01 14:05:55,591 INFO sqlalchemy.engine.base.Engine SELECT CAST('test plain returns' AS VARCHAR(60)) AS anon_1\n",
      "2020-05-01 14:05:55,597 INFO sqlalchemy.engine.base.Engine ()\n",
      "2020-05-01 14:05:55,601 INFO sqlalchemy.engine.base.Engine SELECT CAST('test unicode returns' AS VARCHAR(60)) AS anon_1\n",
      "2020-05-01 14:05:55,602 INFO sqlalchemy.engine.base.Engine ()\n",
      "2020-05-01 14:05:55,607 INFO sqlalchemy.engine.base.Engine PRAGMA main.table_info(\"data\")\n",
      "2020-05-01 14:05:55,611 INFO sqlalchemy.engine.base.Engine ()\n",
      "2020-05-01 14:05:55,615 INFO sqlalchemy.engine.base.Engine PRAGMA temp.table_info(\"data\")\n",
      "2020-05-01 14:05:55,619 INFO sqlalchemy.engine.base.Engine ()\n",
      "2020-05-01 14:05:55,625 INFO sqlalchemy.engine.base.Engine \n",
      "CREATE TABLE data (\n",
      "\tid INTEGER NOT NULL, \n",
      "\tdate DATE, \n",
      "\tsubscribers INTEGER, \n",
      "\treviews INTEGER, \n",
      "\ttimestamp DATETIME, \n",
      "\tPRIMARY KEY (id)\n",
      ")\n",
      "\n",
      "\n",
      "2020-05-01 14:05:55,628 INFO sqlalchemy.engine.base.Engine ()\n",
      "2020-05-01 14:05:55,644 INFO sqlalchemy.engine.base.Engine COMMIT\n"
     ]
    }
   ],
   "source": [
    "#最初にデータベースの初期化をする必要があるので\n",
    "init_db()\n",
    "\n",
    "#これをすることで、asettsフォルダーの中に、data.dbが作られ初期化された"
   ]
  },
  {
   "cell_type": "markdown",
   "metadata": {},
   "source": [
    "## Create"
   ]
  },
  {
   "cell_type": "code",
   "execution_count": 4,
   "metadata": {},
   "outputs": [
    {
     "data": {
      "text/plain": [
       "datetime.date(2020, 5, 1)"
      ]
     },
     "execution_count": 4,
     "metadata": {},
     "output_type": "execute_result"
    }
   ],
   "source": [
    "date = datetime.date.today()\n",
    "date"
   ]
  },
  {
   "cell_type": "code",
   "execution_count": 5,
   "metadata": {},
   "outputs": [],
   "source": [
    "row = Data(date=date, subscribers=3500, reviews=200)\n",
    "\n",
    "#models.pyのDataクラスを使っている\n",
    "#1つのインスタンスとして、新たなデータを生成しただけで、保存はしていない"
   ]
  },
  {
   "cell_type": "code",
   "execution_count": 6,
   "metadata": {},
   "outputs": [
    {
     "data": {
      "text/plain": [
       "<assets.models.Data at 0x24561c6fd48>"
      ]
     },
     "execution_count": 6,
     "metadata": {},
     "output_type": "execute_result"
    }
   ],
   "source": [
    "row"
   ]
  },
  {
   "cell_type": "code",
   "execution_count": 7,
   "metadata": {},
   "outputs": [
    {
     "data": {
      "text/plain": [
       "datetime.date(2020, 5, 1)"
      ]
     },
     "execution_count": 7,
     "metadata": {},
     "output_type": "execute_result"
    }
   ],
   "source": [
    "row.date"
   ]
  },
  {
   "cell_type": "code",
   "execution_count": 8,
   "metadata": {},
   "outputs": [
    {
     "data": {
      "text/plain": [
       "3500"
      ]
     },
     "execution_count": 8,
     "metadata": {},
     "output_type": "execute_result"
    }
   ],
   "source": [
    "row.subscribers"
   ]
  },
  {
   "cell_type": "code",
   "execution_count": 9,
   "metadata": {},
   "outputs": [],
   "source": [
    "db_session.add(row)"
   ]
  },
  {
   "cell_type": "code",
   "execution_count": 10,
   "metadata": {},
   "outputs": [
    {
     "name": "stdout",
     "output_type": "stream",
     "text": [
      "2020-05-01 14:11:40,927 INFO sqlalchemy.engine.base.Engine BEGIN (implicit)\n",
      "2020-05-01 14:11:40,935 INFO sqlalchemy.engine.base.Engine INSERT INTO data (date, subscribers, reviews, timestamp) VALUES (?, ?, ?, ?)\n",
      "2020-05-01 14:11:40,940 INFO sqlalchemy.engine.base.Engine ('2020-05-01', 3500, 200, '2020-05-01 14:05:38.010663')\n",
      "2020-05-01 14:11:40,947 INFO sqlalchemy.engine.base.Engine COMMIT\n"
     ]
    }
   ],
   "source": [
    "db_session.commit()"
   ]
  },
  {
   "cell_type": "markdown",
   "metadata": {},
   "source": [
    "### addしただけではだめで、コミットもすることで、ようやくデータベースに反映される"
   ]
  },
  {
   "cell_type": "code",
   "execution_count": 11,
   "metadata": {},
   "outputs": [],
   "source": [
    "row1 = Data(date=date, subscribers=6500, reviews=210)\n",
    "row2 = Data(date=date, subscribers=1500, reviews=220)"
   ]
  },
  {
   "cell_type": "code",
   "execution_count": 12,
   "metadata": {},
   "outputs": [
    {
     "data": {
      "text/plain": [
       "1500"
      ]
     },
     "execution_count": 12,
     "metadata": {},
     "output_type": "execute_result"
    }
   ],
   "source": [
    "row2.subscribers"
   ]
  },
  {
   "cell_type": "code",
   "execution_count": 13,
   "metadata": {},
   "outputs": [],
   "source": [
    "db_session.add(row1)\n",
    "db_session.add(row2)"
   ]
  },
  {
   "cell_type": "code",
   "execution_count": 14,
   "metadata": {},
   "outputs": [
    {
     "name": "stdout",
     "output_type": "stream",
     "text": [
      "2020-05-01 14:14:10,569 INFO sqlalchemy.engine.base.Engine BEGIN (implicit)\n",
      "2020-05-01 14:14:10,571 INFO sqlalchemy.engine.base.Engine INSERT INTO data (date, subscribers, reviews, timestamp) VALUES (?, ?, ?, ?)\n",
      "2020-05-01 14:14:10,574 INFO sqlalchemy.engine.base.Engine ('2020-05-01', 6500, 210, '2020-05-01 14:05:38.010663')\n",
      "2020-05-01 14:14:10,579 INFO sqlalchemy.engine.base.Engine INSERT INTO data (date, subscribers, reviews, timestamp) VALUES (?, ?, ?, ?)\n",
      "2020-05-01 14:14:10,582 INFO sqlalchemy.engine.base.Engine ('2020-05-01', 1500, 220, '2020-05-01 14:05:38.010663')\n",
      "2020-05-01 14:14:10,586 INFO sqlalchemy.engine.base.Engine COMMIT\n"
     ]
    }
   ],
   "source": [
    "db_session.commit()\n",
    "\n",
    "#addは2つともやらないといけないが、commitはaddしたものをコミットするので一回で大丈夫"
   ]
  },
  {
   "cell_type": "markdown",
   "metadata": {},
   "source": [
    "## Read"
   ]
  },
  {
   "cell_type": "code",
   "execution_count": 15,
   "metadata": {},
   "outputs": [
    {
     "data": {
      "text/plain": [
       "<sqlalchemy.orm.query.Query at 0x24561cba708>"
      ]
     },
     "execution_count": 15,
     "metadata": {},
     "output_type": "execute_result"
    }
   ],
   "source": [
    "db_session.query(Data)"
   ]
  },
  {
   "cell_type": "code",
   "execution_count": 16,
   "metadata": {},
   "outputs": [
    {
     "name": "stdout",
     "output_type": "stream",
     "text": [
      "2020-05-01 14:15:43,367 INFO sqlalchemy.engine.base.Engine BEGIN (implicit)\n",
      "2020-05-01 14:15:43,371 INFO sqlalchemy.engine.base.Engine SELECT data.id AS data_id, data.date AS data_date, data.subscribers AS data_subscribers, data.reviews AS data_reviews, data.timestamp AS data_timestamp \n",
      "FROM data\n",
      "2020-05-01 14:15:43,373 INFO sqlalchemy.engine.base.Engine ()\n"
     ]
    },
    {
     "data": {
      "text/plain": [
       "[<assets.models.Data at 0x24561c6fd48>,\n",
       " <assets.models.Data at 0x24561483ec8>,\n",
       " <assets.models.Data at 0x24561c9a048>]"
      ]
     },
     "execution_count": 16,
     "metadata": {},
     "output_type": "execute_result"
    }
   ],
   "source": [
    "db_session.query(Data).all()"
   ]
  },
  {
   "cell_type": "code",
   "execution_count": 17,
   "metadata": {},
   "outputs": [
    {
     "name": "stdout",
     "output_type": "stream",
     "text": [
      "2020-05-01 14:16:04,299 INFO sqlalchemy.engine.base.Engine SELECT data.id AS data_id, data.date AS data_date, data.subscribers AS data_subscribers, data.reviews AS data_reviews, data.timestamp AS data_timestamp \n",
      "FROM data\n",
      "2020-05-01 14:16:04,301 INFO sqlalchemy.engine.base.Engine ()\n"
     ]
    },
    {
     "data": {
      "text/plain": [
       "3500"
      ]
     },
     "execution_count": 17,
     "metadata": {},
     "output_type": "execute_result"
    }
   ],
   "source": [
    "db_session.query(Data).all()[0].subscribers"
   ]
  },
  {
   "cell_type": "markdown",
   "metadata": {},
   "source": [
    "## Update"
   ]
  },
  {
   "cell_type": "code",
   "execution_count": 19,
   "metadata": {},
   "outputs": [
    {
     "name": "stdout",
     "output_type": "stream",
     "text": [
      "2020-05-01 14:45:34,450 INFO sqlalchemy.engine.base.Engine SELECT data.id AS data_id, data.date AS data_date, data.subscribers AS data_subscribers, data.reviews AS data_reviews, data.timestamp AS data_timestamp \n",
      "FROM data\n",
      "2020-05-01 14:45:34,453 INFO sqlalchemy.engine.base.Engine ()\n"
     ]
    },
    {
     "data": {
      "text/plain": [
       "<assets.models.Data at 0x24561c6fd48>"
      ]
     },
     "execution_count": 19,
     "metadata": {},
     "output_type": "execute_result"
    }
   ],
   "source": [
    "datum = db_session.query(Data).all()[0]\n",
    "datum"
   ]
  },
  {
   "cell_type": "code",
   "execution_count": 20,
   "metadata": {},
   "outputs": [],
   "source": [
    "datum.subscribers =10000"
   ]
  },
  {
   "cell_type": "code",
   "execution_count": 21,
   "metadata": {},
   "outputs": [
    {
     "name": "stdout",
     "output_type": "stream",
     "text": [
      "2020-05-01 14:46:22,307 INFO sqlalchemy.engine.base.Engine UPDATE data SET subscribers=? WHERE data.id = ?\n",
      "2020-05-01 14:46:22,309 INFO sqlalchemy.engine.base.Engine (10000, 1)\n",
      "2020-05-01 14:46:22,315 INFO sqlalchemy.engine.base.Engine COMMIT\n"
     ]
    }
   ],
   "source": [
    "db_session.add(datum)\n",
    "db_session.commit()"
   ]
  },
  {
   "cell_type": "code",
   "execution_count": 22,
   "metadata": {},
   "outputs": [
    {
     "name": "stdout",
     "output_type": "stream",
     "text": [
      "2020-05-01 14:46:48,496 INFO sqlalchemy.engine.base.Engine BEGIN (implicit)\n",
      "2020-05-01 14:46:48,498 INFO sqlalchemy.engine.base.Engine SELECT data.id AS data_id, data.date AS data_date, data.subscribers AS data_subscribers, data.reviews AS data_reviews, data.timestamp AS data_timestamp \n",
      "FROM data\n",
      "2020-05-01 14:46:48,501 INFO sqlalchemy.engine.base.Engine ()\n"
     ]
    },
    {
     "data": {
      "text/plain": [
       "10000"
      ]
     },
     "execution_count": 22,
     "metadata": {},
     "output_type": "execute_result"
    }
   ],
   "source": [
    "db_session.query(Data).all()[0].subscribers"
   ]
  },
  {
   "cell_type": "markdown",
   "metadata": {},
   "source": [
    "## Delete"
   ]
  },
  {
   "cell_type": "code",
   "execution_count": 24,
   "metadata": {},
   "outputs": [
    {
     "name": "stdout",
     "output_type": "stream",
     "text": [
      "2020-05-01 15:27:34,121 INFO sqlalchemy.engine.base.Engine SELECT data.id AS data_id, data.date AS data_date, data.subscribers AS data_subscribers, data.reviews AS data_reviews, data.timestamp AS data_timestamp \n",
      "FROM data \n",
      "WHERE data.subscribers = ?\n",
      "2020-05-01 15:27:34,125 INFO sqlalchemy.engine.base.Engine (10000,)\n"
     ]
    }
   ],
   "source": [
    "datum = db_session.query(Data).filter_by(subscribers=10000).one()\n",
    "#filter_byで条件抽出している\n",
    "#それを.datumに代入している"
   ]
  },
  {
   "cell_type": "code",
   "execution_count": 25,
   "metadata": {},
   "outputs": [
    {
     "data": {
      "text/plain": [
       "10000"
      ]
     },
     "execution_count": 25,
     "metadata": {},
     "output_type": "execute_result"
    }
   ],
   "source": [
    "datum.subscribers"
   ]
  },
  {
   "cell_type": "code",
   "execution_count": 27,
   "metadata": {},
   "outputs": [
    {
     "name": "stdout",
     "output_type": "stream",
     "text": [
      "2020-05-01 15:29:07,971 INFO sqlalchemy.engine.base.Engine DELETE FROM data WHERE data.id = ?\n",
      "2020-05-01 15:29:07,975 INFO sqlalchemy.engine.base.Engine (1,)\n",
      "2020-05-01 15:29:07,985 INFO sqlalchemy.engine.base.Engine COMMIT\n"
     ]
    }
   ],
   "source": [
    "db_session.delete(datum)\n",
    "db_session.commit()"
   ]
  },
  {
   "cell_type": "code",
   "execution_count": 28,
   "metadata": {},
   "outputs": [
    {
     "name": "stdout",
     "output_type": "stream",
     "text": [
      "2020-05-01 15:29:25,340 INFO sqlalchemy.engine.base.Engine BEGIN (implicit)\n",
      "2020-05-01 15:29:25,345 INFO sqlalchemy.engine.base.Engine SELECT data.id AS data_id, data.date AS data_date, data.subscribers AS data_subscribers, data.reviews AS data_reviews, data.timestamp AS data_timestamp \n",
      "FROM data\n",
      "2020-05-01 15:29:25,349 INFO sqlalchemy.engine.base.Engine ()\n"
     ]
    },
    {
     "data": {
      "text/plain": [
       "[<assets.models.Data at 0x24561483ec8>, <assets.models.Data at 0x24561c9a048>]"
      ]
     },
     "execution_count": 28,
     "metadata": {},
     "output_type": "execute_result"
    }
   ],
   "source": [
    "db_session.query(Data).all()"
   ]
  },
  {
   "cell_type": "code",
   "execution_count": 29,
   "metadata": {},
   "outputs": [
    {
     "name": "stdout",
     "output_type": "stream",
     "text": [
      "2020-05-01 15:31:17,479 INFO sqlalchemy.engine.base.Engine SELECT data.id AS data_id, data.date AS data_date, data.subscribers AS data_subscribers, data.reviews AS data_reviews, data.timestamp AS data_timestamp \n",
      "FROM data\n",
      "2020-05-01 15:31:17,483 INFO sqlalchemy.engine.base.Engine ()\n"
     ]
    },
    {
     "data": {
      "text/plain": [
       "2"
      ]
     },
     "execution_count": 29,
     "metadata": {},
     "output_type": "execute_result"
    }
   ],
   "source": [
    "len(db_session.query(Data).all())"
   ]
  },
  {
   "cell_type": "code",
   "execution_count": 30,
   "metadata": {},
   "outputs": [
    {
     "name": "stdout",
     "output_type": "stream",
     "text": [
      "2020-05-01 15:31:30,305 INFO sqlalchemy.engine.base.Engine DELETE FROM data\n",
      "2020-05-01 15:31:30,310 INFO sqlalchemy.engine.base.Engine ()\n"
     ]
    },
    {
     "data": {
      "text/plain": [
       "2"
      ]
     },
     "execution_count": 30,
     "metadata": {},
     "output_type": "execute_result"
    }
   ],
   "source": [
    "#データの削除\n",
    "Data.query.delete()"
   ]
  },
  {
   "cell_type": "code",
   "execution_count": null,
   "metadata": {},
   "outputs": [],
   "source": []
  }
 ],
 "metadata": {
  "kernelspec": {
   "display_name": "Python 3",
   "language": "python",
   "name": "python3"
  },
  "language_info": {
   "codemirror_mode": {
    "name": "ipython",
    "version": 3
   },
   "file_extension": ".py",
   "mimetype": "text/x-python",
   "name": "python",
   "nbconvert_exporter": "python",
   "pygments_lexer": "ipython3",
   "version": "3.7.4"
  }
 },
 "nbformat": 4,
 "nbformat_minor": 4
}
